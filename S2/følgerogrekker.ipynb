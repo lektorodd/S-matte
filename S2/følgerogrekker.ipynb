{
 "cells": [
  {
   "cell_type": "markdown",
   "metadata": {},
   "source": [
    "# Følger og rekker\n",
    "\n",
    "## Følger\n",
    "\n",
    "For å finna ledd i talfølger kan ein bruka ekplisitte formlar, eller finna leddet rekursivt. Me skal sjå på døme på korleis me kan gjera begge deler, både for aritmetiske og geometriske følger. \n",
    "\n",
    "### Eksplisitt\n",
    "\n",
    "Gitt den aritmetiske talfølga \n",
    "```{math}\n",
    "3, 7, 11, 15, \\ldots\n",
    "``` \n",
    "Her er det første leddet $a_1 =3$ og differansen mellom kvart ledd er $d=4$. Dermed vil \n",
    "```{math}\n",
    "a_n = a_1 + d(n-1)\n",
    "```\n",
    "Denne eksplisitte formelen for det n-te leddet kan me t.d. definera som ein funksjon i python: "
   ]
  },
  {
   "cell_type": "code",
   "execution_count": 1,
   "metadata": {},
   "outputs": [
    {
     "name": "stdout",
     "output_type": "stream",
     "text": [
      "15\n"
     ]
    }
   ],
   "source": [
    "def a(n):\n",
    "    return 3 + 4*(n - 1)\n",
    "\n",
    "print(a(4))\n"
   ]
  },
  {
   "cell_type": "markdown",
   "metadata": {},
   "source": [
    "Denne funksjonen kan me bruka for å skriva ut dei ti første ledda:"
   ]
  },
  {
   "cell_type": "code",
   "execution_count": 3,
   "metadata": {},
   "outputs": [
    {
     "name": "stdout",
     "output_type": "stream",
     "text": [
      "3, 7, 11, 15, 19, 23, 27, 31, 35, 39, ...\n"
     ]
    }
   ],
   "source": [
    "for i in range(1, 11):\n",
    "    print(a(i), end = \", \")    # end = \"\\n\" (linjeskift) er standarden\n",
    "\n",
    "print(\"...\")"
   ]
  },
  {
   "cell_type": "markdown",
   "metadata": {},
   "source": [
    "### Rekursiv\n",
    "\n",
    "Sidan følga i dømet overt er ei aritmetisk følge kan me finna eit ledd ved å legga til differansen til leddet før, altså\n",
    "```{math}\n",
    "a_n = a_{n-1} + d\n",
    "```\n",
    "For å finna det n-te leddet her må me då starta med $a_1$ og jobba oss fram til $a_n$. "
   ]
  },
  {
   "cell_type": "code",
   "execution_count": 7,
   "metadata": {},
   "outputs": [
    {
     "name": "stdout",
     "output_type": "stream",
     "text": [
      "15\n"
     ]
    }
   ],
   "source": [
    "def a(n): \n",
    "    if n == 1:\n",
    "        return 3                # det første leddet, a_1\n",
    "    else:\n",
    "        return a(n-1) + 4       # leddet før + differansen\n",
    "\n",
    "print(a(4))"
   ]
  },
  {
   "cell_type": "markdown",
   "metadata": {},
   "source": [
    "Skriv ut dei ti første ledda:"
   ]
  },
  {
   "cell_type": "code",
   "execution_count": 8,
   "metadata": {},
   "outputs": [
    {
     "name": "stdout",
     "output_type": "stream",
     "text": [
      "3, 7, 11, 15, 19, 23, 27, 31, 35, 39, ...\n"
     ]
    }
   ],
   "source": [
    "for i in range(1, 11):\n",
    "    print(a(i), end = \", \")    \n",
    "\n",
    "print(\"...\")"
   ]
  },
  {
   "cell_type": "markdown",
   "metadata": {},
   "source": [
    "### Fibonacci\n",
    "\n",
    "Somme talfølger kan vera krevande å finna eksplisitte uttrykk for. Eit døme på dette kan vera Fibonacci-talfølga \n",
    "```{math}\n",
    "1, 1, 2, 3, 5, 8, 13, \\ldots\n",
    "```\n",
    "der kvart ledd er summen av dei to førre ledda. Altså at $a_n = a_{n-1} + a_{n-2}$. \n",
    "\n",
    "Å finna ledda rekursivt vert dermed mykje enklare enn å finna ein eksplisitt formel:"
   ]
  },
  {
   "cell_type": "code",
   "execution_count": 10,
   "metadata": {},
   "outputs": [
    {
     "name": "stdout",
     "output_type": "stream",
     "text": [
      "1, 1, 2, 3, 5, 8, 13, 21, 34, 55, 89, 144, 233, 377, 610, ...\n"
     ]
    }
   ],
   "source": [
    "def F(n):\n",
    "    if n == 1 or n == 2:\n",
    "        return 1            # dei to første ledda er 1\n",
    "    else:\n",
    "        return F(n-1) + F(n-2)\n",
    "\n",
    "for i in range(1, 16):\n",
    "    print(F(i), end = \", \")\n",
    "\n",
    "print(\"...\")"
   ]
  }
 ],
 "metadata": {
  "kernelspec": {
   "display_name": "Python 3.10.1 64-bit",
   "language": "python",
   "name": "python3"
  },
  "language_info": {
   "codemirror_mode": {
    "name": "ipython",
    "version": 3
   },
   "file_extension": ".py",
   "mimetype": "text/x-python",
   "name": "python",
   "nbconvert_exporter": "python",
   "pygments_lexer": "ipython3",
   "version": "3.10.1"
  },
  "orig_nbformat": 4,
  "vscode": {
   "interpreter": {
    "hash": "aee8b7b246df8f9039afb4144a1f6fd8d2ca17a180786b69acc140d282b71a49"
   }
  }
 },
 "nbformat": 4,
 "nbformat_minor": 2
}
