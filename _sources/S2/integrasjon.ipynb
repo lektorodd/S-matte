{
 "cells": [
  {
   "cell_type": "markdown",
   "metadata": {},
   "source": [
    "# Integrasjon\n",
    "\n",
    "Det er fleire måtar me kan approksimera bestemte integral numerisk. I GeoGebra finn me funksjonane \"SumUnder\" og \"SumOver\" som gjev oss summen av arealet til $n$ rektangel mellom $a$ og $b$ på $x$-aksen som er slik at dei ligg under eller over funksjonen. \"SumUnder\" vil dermed gje eit resultat som er litt mindre enn det faktiske resultatet, medan \"SumOver\" vil gje eit litt for stort resultat. \n",
    "\n",
    "Animasjonen under viser korleis nøyaktigheita aukar etter kvart som antall rektangel vert større. Med fleire rektangel vert arealet som ikkje vert dekka mindre og mindre. \n",
    "\n",
    "```{figure} ../img/venstresum.gif\n",
    "---\n",
    "width: 90%\n",
    "align: center\n",
    "---\n",
    "Samanheng mellom nøyaktigheit og tal rektangel.\n",
    "```\n",
    "\n",
    "Den enklaste approksimasjonen er å finna venstre- eller høgresum. Med venstresum skal kvar av rektangla ha høgde slik at hjørnet øverst til venstre ligg på funksjonen. Høgresum finn me på same måte, men med hjørnet øverst til høgre på funksjonen. Algoritmen vert ganske lik for begge. Me ser på venstresum først. \n",
    "\n",
    "## Venstresum\n",
    "\n",
    "Me skal finna summen av $n$ rektangel mellom $a$ og $b$ som er slik at hjørnet øverst til venstre på kvart rektangel ligg på funksjonen. \n",
    "Breidda til rektangla kallar me dx. \n",
    "\n",
    "```{figure} ../img/venstresum.png\n",
    "---\n",
    "width: 90%\n",
    "align: center\n",
    "---\n",
    "Samanheng mellom rektangel og funksjon.\n",
    "```\n"
   ]
  },
  {
   "cell_type": "code",
   "execution_count": 1,
   "metadata": {},
   "outputs": [],
   "source": [
    "def venstresum(f, a, b, n):\n",
    "    dx = (b-a)/n\n",
    "\n",
    "    x = a\n",
    "    sum_venstre = 0 \n",
    "\n",
    "    for i in range(n):\n",
    "        rektangel = f(x)*dx\n",
    "        sum_venstre += rektangel\n",
    "        x += dx\n",
    "\n",
    "    return sum_venstre"
   ]
  },
  {
   "cell_type": "markdown",
   "metadata": {},
   "source": [
    "Tester på funksjonen \n",
    "```{math}\n",
    "f(x)=x^3+2x+3\n",
    "```\n",
    "Leiter etter ein omtrentleg verdi av arealet under $f(x)$ frå $x=2$ til $x=5$."
   ]
  },
  {
   "cell_type": "code",
   "execution_count": 2,
   "metadata": {},
   "outputs": [
    {
     "name": "stdout",
     "output_type": "stream",
     "text": [
      "Venstresum: 180.410\n"
     ]
    }
   ],
   "source": [
    "def f(x):\n",
    "    return x**3 + 2*x + 3\n",
    "\n",
    "\n",
    "print(f\"Venstresum: {venstresum(f, 2, 5, 100):.3f}\")"
   ]
  },
  {
   "cell_type": "markdown",
   "metadata": {},
   "source": [
    "## Høgresum\n",
    "\n",
    "Me skal finna summen av $n$ rektangel mellom $a$ og $b$ som er slik at hjørnet øverst til høgre på kvart rektangel ligg på funksjonen. \n",
    "Breidda til rektangla kallar me dx. Funksjonen er heilt lik som i `venstresum()` men me endrar rektangel til `f(x+dx)*dx` slik at me reknar høgda på høgresida av rektangelet. "
   ]
  },
  {
   "cell_type": "code",
   "execution_count": 3,
   "metadata": {},
   "outputs": [],
   "source": [
    "def høgresum(f, a, b, n):\n",
    "    dx = (b-a)/n\n",
    "\n",
    "    x = a\n",
    "    sum_høgre = 0 \n",
    "\n",
    "    for i in range(n):\n",
    "        rektangel = f(x+dx)*dx\n",
    "        sum_høgre += rektangel\n",
    "        x += dx\n",
    "\n",
    "    return sum_høgre"
   ]
  },
  {
   "cell_type": "markdown",
   "metadata": {},
   "source": [
    "Testar med same funksjon og intervall som tidlegare. "
   ]
  },
  {
   "cell_type": "code",
   "execution_count": 4,
   "metadata": {},
   "outputs": [
    {
     "name": "stdout",
     "output_type": "stream",
     "text": [
      "Høgresum: 184.100\n"
     ]
    }
   ],
   "source": [
    "print(f\"Høgresum: {høgresum(f, 2, 5, 100):.3f}\")"
   ]
  },
  {
   "cell_type": "markdown",
   "metadata": {},
   "source": [
    "Med det kan me anta at \n",
    "```{math}\n",
    "180.41 \\leq \\int_2^5 f(x)\\, dx \\leq 184.10\n",
    "```\n",
    "\n",
    "Bruker me fleire rektangel, vil me få ein betre approksimasjon: "
   ]
  },
  {
   "cell_type": "code",
   "execution_count": 5,
   "metadata": {},
   "outputs": [
    {
     "name": "stdout",
     "output_type": "stream",
     "text": [
      "Venstresum: 182.066\n",
      "Høgresum: 182.435\n"
     ]
    }
   ],
   "source": [
    "print(f\"Venstresum: {venstresum(f, 2, 5, 1000):.3f}\")\n",
    "print(f\"Høgresum: {høgresum(f, 2, 5, 1000):.3f}\")"
   ]
  },
  {
   "cell_type": "markdown",
   "metadata": {},
   "source": [
    "## Sum under og sum over\n",
    "\n",
    "Viss me vil finna tilsvarande GeoGebra sin SumUnder må me sjekka kva side av kvart rektangel som er kortast, for så å bruka det som høgde. "
   ]
  },
  {
   "cell_type": "code",
   "execution_count": 6,
   "metadata": {},
   "outputs": [],
   "source": [
    "def sumunder(f, a, b, n):\n",
    "    dx = (b-a)/n\n",
    "\n",
    "    x = a\n",
    "    sum_under = 0 \n",
    "\n",
    "    for i in range(n):\n",
    "        if f(x) <= f(x+dx):\n",
    "            rektangel = f(x)*dx\n",
    "        else:\n",
    "            rektangel = f(x+dx)*dx\n",
    "\n",
    "        sum_under += rektangel\n",
    "        x += dx\n",
    "\n",
    "    return sum_under"
   ]
  },
  {
   "cell_type": "markdown",
   "metadata": {},
   "source": [
    "Sum over blir heilt analogt, men me snur ulikskapen i viss-setningen:"
   ]
  },
  {
   "cell_type": "code",
   "execution_count": 7,
   "metadata": {},
   "outputs": [],
   "source": [
    "def sumover(f, a, b, n):\n",
    "    dx = (b-a)/n\n",
    "\n",
    "    x = a\n",
    "    sum_over = 0 \n",
    "\n",
    "    for i in range(n):\n",
    "        if f(x) >= f(x+dx):\n",
    "            rektangel = f(x)*dx\n",
    "        else:\n",
    "            rektangel = f(x+dx)*dx\n",
    "\n",
    "        sum_over += rektangel\n",
    "        x += dx\n",
    "\n",
    "    return sum_over"
   ]
  },
  {
   "cell_type": "code",
   "execution_count": 8,
   "metadata": {},
   "outputs": [
    {
     "name": "stdout",
     "output_type": "stream",
     "text": [
      "Sum under: 180.410\n",
      "Sum over: 184.100\n"
     ]
    }
   ],
   "source": [
    "print(f\"Sum under: {sumunder(f, 2, 5, 100):.3f}\")\n",
    "print(f\"Sum over: {sumover(f, 2, 5, 100):.3f}\")"
   ]
  },
  {
   "cell_type": "markdown",
   "metadata": {},
   "source": [
    "## Trapesmetoden\n",
    "\n",
    "Ein enno betre approksimasjon er å laga trapes framfor rektangel. Høgda på trapeset vert `dx` medan dei to parallelle sidene vert `f(x)` og `f(x+dx)`. "
   ]
  },
  {
   "cell_type": "code",
   "execution_count": 9,
   "metadata": {},
   "outputs": [
    {
     "name": "stdout",
     "output_type": "stream",
     "text": [
      "Trapesmetode: 182.255\n"
     ]
    }
   ],
   "source": [
    "def trapesmetoden(f, a, b, n):\n",
    "    dx = (b-a)/n\n",
    "\n",
    "    x = a\n",
    "    sum_trapes = 0 \n",
    "\n",
    "    for i in range(n):\n",
    "        trapes = ((f(x)+f(x+dx))*dx)/2\n",
    "        sum_trapes += trapes\n",
    "        x += dx\n",
    "\n",
    "    return sum_trapes\n",
    "\n",
    "\n",
    "print(f\"Trapesmetode: {trapesmetoden(f, 2, 5, 100):.3f}\")"
   ]
  },
  {
   "cell_type": "markdown",
   "metadata": {},
   "source": [
    "Reknar me ut integralet vil me sjå at svaret vert \n",
    "```{math}\n",
    "\\int_2^5 x^3 + 2x + 3 \\, dx = \\frac{729}{4} = 182.25\n",
    "```\n",
    "\n",
    "Med trapesmetoden kjem me altså nærare svaret med 100 trapes enn med venstresum med 1000 rektangel. "
   ]
  }
 ],
 "metadata": {
  "kernelspec": {
   "display_name": "Python 3.8.13 ('base')",
   "language": "python",
   "name": "python3"
  },
  "language_info": {
   "codemirror_mode": {
    "name": "ipython",
    "version": 3
   },
   "file_extension": ".py",
   "mimetype": "text/x-python",
   "name": "python",
   "nbconvert_exporter": "python",
   "pygments_lexer": "ipython3",
   "version": "3.8.13"
  },
  "orig_nbformat": 4,
  "vscode": {
   "interpreter": {
    "hash": "40d3a090f54c6569ab1632332b64b2c03c39dcf918b08424e98f38b5ae0af88f"
   }
  }
 },
 "nbformat": 4,
 "nbformat_minor": 2
}
