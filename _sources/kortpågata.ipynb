{
 "cells": [
  {
   "cell_type": "markdown",
   "metadata": {},
   "source": [
    "# Plukke kort på gata\n",
    "\n",
    "Utfordring frå Abels tårn. \n",
    "\n",
    "Sett at du går rundt i verda og finn eitt og eitt spelekort på gata. Kor mange kort må du finna før du har ein fullstendig kortstokk? \n",
    "\n",
    "```{tip}\n",
    "Prøv deg gjerne på denne før du les vidare. Det er god trening i [algoritmisk tenking](https://www.udir.no/kvalitet-og-kompetanse/profesjonsfaglig-digital-kompetanse/algoritmisk-tenkning/).\n",
    "\n",
    "Problemet er veldig vanskeleg å rekna seg fram til, men simulering er ein fin innfallsvinkel\n",
    "```\n",
    "\n"
   ]
  },
  {
   "cell_type": "markdown",
   "metadata": {},
   "source": []
  }
 ],
 "metadata": {
  "language_info": {
   "name": "python"
  },
  "orig_nbformat": 4
 },
 "nbformat": 4,
 "nbformat_minor": 2
}
