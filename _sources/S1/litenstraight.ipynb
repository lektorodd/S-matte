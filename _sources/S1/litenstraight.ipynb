{
 "cells": [
  {
   "cell_type": "markdown",
   "metadata": {},
   "source": [
    "# Liten straight\n",
    "\n",
    "Kva er sannsynet for å trilla liten straight (1, 2, 3, 4, 5) på ein runde i Maxi Yatzy, altså med 6 terningar? \n",
    "Det er tre kast kvar runde og du kan ta vare på dei terningane du vil frå kast til kast. \n",
    "\n",
    "```{admonition} Hint\n",
    ":class: tip, dropdown\n",
    "\n",
    "Start enkelt og bygg ut programmet etter kvart.\n",
    "- trille terning\n",
    "- trille tre terningar\n",
    "- ta vare på dei som er ulike, trille resten på nytt - tre rundar\n",
    "- gjenta mange gongar (simulering)\n",
    "```"
   ]
  },
  {
   "cell_type": "code",
   "execution_count": 1,
   "metadata": {
    "tags": [
     "hide-output",
     "hide-input"
    ]
   },
   "outputs": [
    {
     "name": "stdout",
     "output_type": "stream",
     "text": [
      "Det er 30.06% sannsynlighet for å trille liten straight på 3 kast\n"
     ]
    }
   ],
   "source": [
    "import numpy as np\n",
    "from numpy.random import default_rng\n",
    "rng = default_rng()\n",
    "\n",
    "# trille antall terninger \n",
    "def trille(antall):\n",
    "    return rng.integers(1, 7, size = antall)\n",
    "\n",
    "# Sjekke om ls. (både liten, stor og full straight er ok\n",
    "def sjekk_ls(terningar):\n",
    "    return ((len(terningar)==5 and terningar[0] == 1 and terningar[-1] == 5) \n",
    "            or (len(terningar)==6 and terningar[0] == 1 and terningar[-1] == 6))\n",
    "\n",
    "# triller etter liten straight på 3 kast\n",
    "def liten_straight():\n",
    "    ls = False\n",
    "\n",
    "    kast = trille(6)\n",
    "\n",
    "    for i in range(2):\n",
    "        kast = np.unique(kast)\n",
    "        kast = np.append(kast, trille(6 - len(kast)))\n",
    "\n",
    "    kast = np.unique(kast)\n",
    "\n",
    "    return sjekk_ls(kast)\n",
    "\n",
    "# Sjølve simuleringa\n",
    "suksess = 0\n",
    "N = 100000\n",
    "\n",
    "for i in range(N):\n",
    "    if liten_straight():\n",
    "        suksess += 1\n",
    "\n",
    "print(f\"Det er {suksess/N:.2%} sannsynlighet for å trille liten straight på 3 kast\")"
   ]
  },
  {
   "cell_type": "code",
   "execution_count": null,
   "metadata": {},
   "outputs": [],
   "source": []
  }
 ],
 "metadata": {
  "interpreter": {
   "hash": "40d3a090f54c6569ab1632332b64b2c03c39dcf918b08424e98f38b5ae0af88f"
  },
  "kernelspec": {
   "display_name": "Python 3 (ipykernel)",
   "language": "python",
   "name": "python3"
  },
  "language_info": {
   "codemirror_mode": {
    "name": "ipython",
    "version": 3
   },
   "file_extension": ".py",
   "mimetype": "text/x-python",
   "name": "python",
   "nbconvert_exporter": "python",
   "pygments_lexer": "ipython3",
   "version": "3.8.13"
  }
 },
 "nbformat": 4,
 "nbformat_minor": 4
}
