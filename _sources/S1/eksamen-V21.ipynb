{
 "cells": [
  {
   "cell_type": "markdown",
   "metadata": {},
   "source": [
    "# V21 - oppgåve 1, del 2\n",
    "\n",
    "Her er eit døme på korleis denne eksamensoppgåva kan løysast med simulering. I tillegg er oppgåve c) løyst utan simulering.\n",
    "\n",
    "> I tillegg til statsministeren er det 19 ministrar i regjeringa. Av desse 20 er 12 medlemmer i Høgre, 4 er medlemmer i Venstre, og 4 er medlemmer i Kristeleg Folkeparti. <br> Ved eit arrangement er det bestemt at 6 av ministrane skal vere til stades. Desse blir tilfeldig trekte blant de 20 ministrane."
   ]
  },
  {
   "cell_type": "code",
   "execution_count": 22,
   "metadata": {},
   "outputs": [],
   "source": [
    "from numpy.random import default_rng\n",
    "rng = default_rng()\n",
    "\n",
    "HØGRE = 12\n",
    "VENSTRE = 4\n",
    "KRF = 4\n",
    "\n",
    "UTVAL = 6\n",
    "\n",
    "N = 1000000"
   ]
  },
  {
   "cell_type": "markdown",
   "metadata": {},
   "source": [
    "## a) \n",
    "\n",
    "Kva er sannsynet for at alle dei 6 som blir trekte ut, er frå Høgre?"
   ]
  },
  {
   "cell_type": "code",
   "execution_count": 23,
   "metadata": {},
   "outputs": [
    {
     "name": "stdout",
     "output_type": "stream",
     "text": [
      "Sannsynet for at alle som vert trekt ut er frå Høgre er 0.024\n"
     ]
    }
   ],
   "source": [
    "# VARIANT 1 - komprimert\n",
    "ngood = HØGRE\n",
    "nbad = VENSTRE + KRF\n",
    "\n",
    "X = 6\n",
    "\n",
    "sannsyn = sum(rng.hypergeometric(ngood, nbad, UTVAL, N) == X) / N\n",
    "\n",
    "print(f\"Sannsynet for at alle som vert trekt ut er frå Høgre er {sannsyn:.2}\")\n"
   ]
  },
  {
   "cell_type": "code",
   "execution_count": 24,
   "metadata": {},
   "outputs": [
    {
     "name": "stdout",
     "output_type": "stream",
     "text": [
      "Sannsynet for at alle som vert trekt ut er frå Høgre er 0.024\n"
     ]
    }
   ],
   "source": [
    "# VARIANT 2 - løkke \n",
    "ngood = HØGRE\n",
    "nbad = VENSTRE + KRF\n",
    "\n",
    "X = 6\n",
    "alle = 0\n",
    "\n",
    "for i in range(N):\n",
    "    trekk = rng.hypergeometric(ngood, nbad, UTVAL)\n",
    "    if trekk == X:\n",
    "        alle += 1\n",
    "\n",
    "sannsyn = alle / N\n",
    "\n",
    "print(f\"Sannsynet for at alle som vert trekt ut er frå Høgre er {sannsyn:.2}\")\n"
   ]
  },
  {
   "cell_type": "markdown",
   "metadata": {},
   "source": [
    "## b) \n",
    "\n",
    "Bestem sannsynet for at statsministeren er blant dei som blir trekte ut."
   ]
  },
  {
   "cell_type": "code",
   "execution_count": 25,
   "metadata": {},
   "outputs": [
    {
     "name": "stdout",
     "output_type": "stream",
     "text": [
      "Sannsynet for at statsministeren vert trekt er 0.3\n"
     ]
    }
   ],
   "source": [
    "# VARIANT 1 - komprimert\n",
    "ngood = 1\n",
    "nbad = (HØGRE - 1) + VENSTRE + KRF\n",
    "\n",
    "X = 1\n",
    "\n",
    "sannsyn = sum(rng.hypergeometric(ngood, nbad, UTVAL, N) == X) / N\n",
    "\n",
    "print(f\"Sannsynet for at statsministeren vert trekt er {sannsyn:.2}\")"
   ]
  },
  {
   "cell_type": "code",
   "execution_count": 26,
   "metadata": {},
   "outputs": [
    {
     "name": "stdout",
     "output_type": "stream",
     "text": [
      "Sannsynet for at statsministeren vert trekt er 0.3\n"
     ]
    }
   ],
   "source": [
    "# VARIANT 2 - løkke\n",
    "ngood = 1\n",
    "nbad = (HØGRE - 1) + VENSTRE + KRF\n",
    "\n",
    "X = 1\n",
    "erna = 0\n",
    "\n",
    "for i in range(N):\n",
    "    trekk = rng.hypergeometric(ngood, nbad, UTVAL)\n",
    "    if trekk == X:\n",
    "        erna += 1\n",
    "\n",
    "sannsyn = erna / N\n",
    "\n",
    "print(f\"Sannsynet for at statsministeren vert trekt er {sannsyn:.2}\")"
   ]
  },
  {
   "cell_type": "markdown",
   "metadata": {},
   "source": [
    "## c)\n",
    "\n",
    "Bestem sannsynet for at 2 frå Høgre, 2 frå Venstre og 2 frå Kristleg Folkeparti vert trekt ut. \n",
    "\n",
    "```{admonition} Obs!\n",
    ":class: important\n",
    "\n",
    "Her kan me ikkje bruka den vanlege `hypergeometric`-funksjonen sidan populasjonen og utvalet er delt i meir enn 2.\n",
    "```\n",
    "\n",
    "### Ved simulering"
   ]
  },
  {
   "cell_type": "code",
   "execution_count": 27,
   "metadata": {},
   "outputs": [
    {
     "name": "stdout",
     "output_type": "stream",
     "text": [
      "Sannsynet for at det vert trekt to frå kvart parti er 0.061\n"
     ]
    }
   ],
   "source": [
    "ministrar = [HØGRE, VENSTRE, KRF]\n",
    "\n",
    "to_frå_kvar = 0\n",
    "\n",
    "for i in range(N):\n",
    "    trekk = rng.multivariate_hypergeometric(ministrar, UTVAL)\n",
    "    sjekk = (trekk == [2, 2, 2])\n",
    "\n",
    "    if sjekk.all():\n",
    "        to_frå_kvar += 1\n",
    "\n",
    "sannsyn = to_frå_kvar / N\n",
    "\n",
    "print(f\"Sannsynet for at det vert trekt to frå kvart parti er {sannsyn:.2}\")"
   ]
  },
  {
   "cell_type": "markdown",
   "metadata": {},
   "source": [
    "### Ved formel\n",
    "\n",
    "```{math}\n",
    "\\frac{\\left( 12 \\atop 2 \\right)\\left( 4 \\atop 2 \\right)\\left( 4 \\atop 2 \\right)}{\\left( 20 \\atop 6 \\right)}\n",
    "```"
   ]
  },
  {
   "cell_type": "code",
   "execution_count": 28,
   "metadata": {},
   "outputs": [
    {
     "name": "stdout",
     "output_type": "stream",
     "text": [
      "Sannsynet for at det vert trekt to frå kvart parti er 0.061\n"
     ]
    }
   ],
   "source": [
    "import scipy.special as sc\n",
    "\n",
    "sannsyn = (sc.binom(HØGRE, 2) * sc.binom(VENSTRE, 2) * sc.binom(KRF, 2)) / (sc.binom(HØGRE + VENSTRE + KRF, 6))\n",
    "\n",
    "print(f\"Sannsynet for at det vert trekt to frå kvart parti er {sannsyn:.2}\")"
   ]
  },
  {
   "cell_type": "code",
   "execution_count": 29,
   "metadata": {},
   "outputs": [
    {
     "name": "stdout",
     "output_type": "stream",
     "text": [
      "Sannsynet for at det vert trekt to frå kvart parti er 0.061\n"
     ]
    }
   ],
   "source": [
    "# Litt mindre komprimert, og kanskje meir oversiktleg\n",
    "\n",
    "binom_H = sc.binom(HØGRE, 2)\n",
    "binom_V = sc.binom(VENSTRE, 2)\n",
    "binom_KrF = sc.binom(KRF, 2)\n",
    "\n",
    "binom_alle = sc.binom(HØGRE + VENSTRE + KRF, 6)\n",
    "\n",
    "sannsyn = (binom_H * binom_V * binom_KrF) / binom_alle\n",
    "\n",
    "print(f\"Sannsynet for at det vert trekt to frå kvart parti er {sannsyn:.2}\")"
   ]
  }
 ],
 "metadata": {
  "interpreter": {
   "hash": "40d3a090f54c6569ab1632332b64b2c03c39dcf918b08424e98f38b5ae0af88f"
  },
  "kernelspec": {
   "display_name": "Python 3.8.13 64-bit",
   "language": "python",
   "name": "python3"
  },
  "language_info": {
   "codemirror_mode": {
    "name": "ipython",
    "version": 3
   },
   "file_extension": ".py",
   "mimetype": "text/x-python",
   "name": "python",
   "nbconvert_exporter": "python",
   "pygments_lexer": "ipython3",
   "version": "3.8.13"
  },
  "orig_nbformat": 4
 },
 "nbformat": 4,
 "nbformat_minor": 2
}
