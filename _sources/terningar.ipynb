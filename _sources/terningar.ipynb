{
 "cells": [
  {
   "cell_type": "markdown",
   "metadata": {},
   "source": [
    "# Terningar\n",
    "\n",
    "```{note}Merk\n",
    "\n",
    "Eg nyttar den anbefalte måten å nytta numpy.random (sjekk [dokumentasjonen](https://numpy.org/doc/stable/reference/random/index.html?highlight=random#module-numpy.random))\n",
    "\n",
    "```"
   ]
  },
  {
   "cell_type": "code",
   "execution_count": 1,
   "metadata": {},
   "outputs": [],
   "source": [
    "import numpy as np                                 # Importerer numpy som np\n",
    "\n",
    "from numpy.random import default_rng               # Importerer default_rng\n",
    "rng = default_rng()                                # Lager en rng (random number generator)"
   ]
  },
  {
   "cell_type": "markdown",
   "metadata": {},
   "source": [
    "## Ein og ein terning"
   ]
  },
  {
   "cell_type": "markdown",
   "metadata": {},
   "source": [
    "Det enklaste dømet på simulering av stokastiske forsøk er trilling av terning"
   ]
  },
  {
   "cell_type": "code",
   "execution_count": 4,
   "metadata": {},
   "outputs": [
    {
     "name": "stdout",
     "output_type": "stream",
     "text": [
      "4\n"
     ]
    }
   ],
   "source": [
    "terning = rng.integers(1, 7)\n",
    "print(terning)"
   ]
  },
  {
   "cell_type": "markdown",
   "metadata": {},
   "source": [
    "Viss me vil kan me bruka løkker for å trilla terningar fleire gongar:"
   ]
  },
  {
   "cell_type": "code",
   "execution_count": 5,
   "metadata": {},
   "outputs": [
    {
     "name": "stdout",
     "output_type": "stream",
     "text": [
      "1\n",
      "3\n",
      "4\n",
      "1\n",
      "4\n",
      "2\n",
      "3\n",
      "2\n",
      "5\n",
      "1\n"
     ]
    }
   ],
   "source": [
    "for i in range(10):\n",
    "    print(rng.integers(1, 7))"
   ]
  },
  {
   "cell_type": "markdown",
   "metadata": {},
   "source": [
    "eller så kan me legga inn ein verdi for `size` i funksjonen. Dette vil gje oss ein `array` med `size` terningar. "
   ]
  },
  {
   "cell_type": "code",
   "execution_count": 6,
   "metadata": {},
   "outputs": [
    {
     "name": "stdout",
     "output_type": "stream",
     "text": [
      "[4 6 6 6 3 3 5 1 6 3]\n"
     ]
    }
   ],
   "source": [
    "terningar = rng.integers(1, 7, size=10)\n",
    "print(terningar)"
   ]
  },
  {
   "cell_type": "markdown",
   "metadata": {},
   "source": [
    "Viss me til dømes vil finna ut kor sannsynleg det er å trilla 5 eller 6 gjennom simulering så kan me gjera det på ulike måtar. Basert på dei to alternativa over gjer det oss desse to:\n",
    "\n",
    "### Alternativ 1 - løkke"
   ]
  },
  {
   "cell_type": "code",
   "execution_count": 17,
   "metadata": {},
   "outputs": [
    {
     "name": "stdout",
     "output_type": "stream",
     "text": [
      "Sannsynet for å trilla 5 eller høgare er 0.333\n"
     ]
    }
   ],
   "source": [
    "N = 1000000\n",
    "\n",
    "gunstige = 0\n",
    "\n",
    "for i in range(N):\n",
    "    terning = rng.integers(1, 7)\n",
    "    if terning >= 5:\n",
    "        gunstige += 1\n",
    "\n",
    "sannsyn = gunstige / N\n",
    "\n",
    "print(f\"Sannsynet for å trilla 5 eller høgare er {round(sannsyn, 3)}\")"
   ]
  },
  {
   "cell_type": "markdown",
   "metadata": {},
   "source": [
    "### Alternativ 2 - array"
   ]
  },
  {
   "cell_type": "code",
   "execution_count": 18,
   "metadata": {},
   "outputs": [
    {
     "name": "stdout",
     "output_type": "stream",
     "text": [
      "Sannsynet for å trilla 5 eller høgare er 0.334\n"
     ]
    }
   ],
   "source": [
    "N = 1000000\n",
    "\n",
    "terningar = rng.integers(1, 7, size=N)\n",
    "\n",
    "gunstige = sum(terningar >= 5) # finn antall terningar som er større eller lik 5\n",
    "\n",
    "sannsyn = gunstige / N\n",
    "\n",
    "print(f\"Sannsynet for å trilla 5 eller høgare er {round(sannsyn, 3)}\")"
   ]
  },
  {
   "cell_type": "markdown",
   "metadata": {},
   "source": [
    "## Fleire terningar\n",
    "\n",
    "Spørsmål som \"Kva er sannsynet for at produktet av to terningar er 8 eller mindre\" er fint å finna svar på ved hjelp av simulering. Igjen kan me gjera det på fleire måtar, eg viser ved hjelp av løkker og arrays. \n",
    "\n",
    "### Alternativ 1 - løkke"
   ]
  },
  {
   "cell_type": "code",
   "execution_count": 21,
   "metadata": {},
   "outputs": [
    {
     "name": "stdout",
     "output_type": "stream",
     "text": [
      "Sannsynet for at produktet av to terningar er 8 eller mindre er 0.443\n"
     ]
    }
   ],
   "source": [
    "N = 1000000\n",
    "\n",
    "gunstige = 0    \n",
    "\n",
    "for i in range(N):\n",
    "    terning1 = rng.integers(1, 7)\n",
    "    terning2 = rng.integers(1, 7)\n",
    "\n",
    "    # sjekkar om produktet er 8 eller mindre\n",
    "    if terning1 * terning2 <= 8:\n",
    "        gunstige += 1\n",
    "\n",
    "sannsyn = gunstige / N\n",
    "\n",
    "print(f\"Sannsynet for at produktet av to terningar er 8 eller mindre er {round(sannsyn, 3)}\")"
   ]
  },
  {
   "cell_type": "markdown",
   "metadata": {},
   "source": [
    "### Alternativ 2 - arrays"
   ]
  },
  {
   "cell_type": "code",
   "execution_count": 22,
   "metadata": {},
   "outputs": [
    {
     "name": "stdout",
     "output_type": "stream",
     "text": [
      "Sannsynet for at produktet av to terningar er 8 eller mindre er 0.444\n"
     ]
    }
   ],
   "source": [
    "N = 1000000\n",
    "\n",
    "terning1 = rng.integers(1, 7, size = N)\n",
    "terning2 = rng.integers(1, 7, size = N)\n",
    "\n",
    "produkt = terning1 * terning2\n",
    "\n",
    "gunstige = sum(produkt <= 8)\n",
    "\n",
    "sannsyn = gunstige / N\n",
    "\n",
    "print(f\"Sannsynet for at produktet av to terningar er 8 eller mindre er {round(sannsyn, 3)}\")"
   ]
  },
  {
   "cell_type": "markdown",
   "metadata": {},
   "source": [
    "```{tip} Tips\n",
    "\n",
    "Kodelinja `produkt = terning1 * terning2` finn produktet av element på samme plass i dei to arrayene\n",
    "\n",
    "```"
   ]
  },
  {
   "cell_type": "code",
   "execution_count": 23,
   "metadata": {},
   "outputs": [
    {
     "name": "stdout",
     "output_type": "stream",
     "text": [
      "[ 6 14 24 36 50]\n"
     ]
    }
   ],
   "source": [
    "a = np.array([1, 2, 3, 4, 5])\n",
    "b = np.array([6, 7, 8, 9, 10])\n",
    "\n",
    "c = a * b\n",
    "\n",
    "print(c)"
   ]
  },
  {
   "cell_type": "markdown",
   "metadata": {},
   "source": [
    "## Nøyaktighet\n",
    "\n",
    "Sjekkar kva som skjer når me triller fleire og fleire terningar. For å visa samanhengen plottar me resultatet.\n",
    "I dømet ser me på sannsynet for å trilla 4 på ein terning. "
   ]
  },
  {
   "cell_type": "code",
   "execution_count": 38,
   "metadata": {},
   "outputs": [
    {
     "data": {
      "image/png": "[encoded data removed]",
      "text/plain": [
       "<Figure size 720x360 with 1 Axes>"
      ]
     },
     "metadata": {
      "needs_background": "light"
     },
     "output_type": "display_data"
    }
   ],
   "source": [
    "import matplotlib.pyplot as plt\n",
    "\n",
    "# antall kast\n",
    "N = 10000000\n",
    "\n",
    "# triller terningar\n",
    "terningar = rng.integers(1, 7, size=N)\n",
    "\n",
    "# finn den kumulative summen av terningar som er lik 4\n",
    "kumulativ_sum = np.cumsum(terningar == 4)\n",
    "\n",
    "# lager \"x-akse\" frå 1 til N\n",
    "x = np.arange(1, N + 1)\n",
    "\n",
    "# finn relativ frekvens\n",
    "rel_frekvens = kumulativ_sum / x\n",
    "\n",
    "plt.figure(figsize=(10, 5))                      # lagar ein figur med 10x5 mål\n",
    "plt.hlines(1/6, 0, N, color=\"red\")               # teiknar ein linje med farge \"red\" for den teoretiske verdien\n",
    "plt.plot(x, rel_frekvens)                        # plottar x-akse og y-akse    \n",
    "plt.xscale(\"log\")                                # logaritmisk x-akse\n",
    "plt.xlabel(\"Antall kast \\n merk: log. skala\")    # namn på x-aksen\n",
    "plt.ylabel(\"Relativ frekvens\")                   # namn på y-aksen\n",
    "plt.title(\"Relativ frekvens for terningar\")      # tittel på figur\n",
    "plt.show()\n"
   ]
  },
  {
   "cell_type": "markdown",
   "metadata": {},
   "source": [
    "Her ser me at di fleire kast me gjennomfører, di nærare kjem den relative frekvensen den teoretiske verdien for å trilla ein firar på vanleg terning.\n",
    "\n",
    "```{math}\n",
    "P(\\text{firar}) = \\frac{1}{6} \\approx 0.167\n",
    "```"
   ]
  },
  {
   "cell_type": "code",
   "execution_count": null,
   "metadata": {},
   "outputs": [],
   "source": []
  }
 ],
 "metadata": {
  "kernelspec": {
   "display_name": "Python 3.8.13 ('base')",
   "language": "python",
   "name": "python3"
  },
  "language_info": {
   "codemirror_mode": {
    "name": "ipython",
    "version": 3
   },
   "file_extension": ".py",
   "mimetype": "text/x-python",
   "name": "python",
   "nbconvert_exporter": "python",
   "pygments_lexer": "ipython3",
   "version": "3.8.13"
  },
  "orig_nbformat": 4,
  "vscode": {
   "interpreter": {
    "hash": "034280a56507a596863b38a111dd31b1ed4d03eb6644e1297ef960ca85732ce5"
   }
  }
 },
 "nbformat": 4,
 "nbformat_minor": 2
}
