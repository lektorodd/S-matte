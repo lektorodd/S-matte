{
 "cells": [
  {
   "cell_type": "markdown",
   "metadata": {},
   "source": [
    "# V22 - oppgåve 4, del 2\n",
    "\n",
    "Oppgåve tilpassa ny læreplan. Simulering for å finne sannsynet av terningkast. \n",
    "\n",
    "> I eit spel kastar du tre terningar. Du multipliserer saman augetalet på terningane. Dersom dette produktet er større enn 100, vinn du.\n",
    ">\n",
    "> Bestem sannsynet for å vinne ved å køyre simuleringar.\n",
    "> Hugs å vise korleis du kjem fram til svaret. "
   ]
  },
  {
   "cell_type": "code",
   "execution_count": 8,
   "metadata": {},
   "outputs": [
    {
     "name": "stdout",
     "output_type": "stream",
     "text": [
      "Sannsynet for produkt større enn 100 er 0.092\n"
     ]
    }
   ],
   "source": [
    "from numpy.random import default_rng\n",
    "rng = default_rng()\n",
    "\n",
    "# antall terningar\n",
    "N = 1000000\n",
    "\n",
    "# triller tre terningar\n",
    "terning1 = rng.integers(1,7,N)\n",
    "terning2 = rng.integers(1,7,N)\n",
    "terning3 = rng.integers(1,7,N)\n",
    "\n",
    "# finn produktet (kast for kast)\n",
    "produkt = terning1 * terning2 * terning3\n",
    "\n",
    "# antall produkt som er større enn 100\n",
    "større_enn_100 = sum(produkt > 100)\n",
    "\n",
    "# reknar ut sannsynet\n",
    "sannsyn = større_enn_100 / N\n",
    "\n",
    "# skriv ut svaret\n",
    "print(f\"Sannsynet for produkt større enn 100 er {round(sannsyn, 3)}\")"
   ]
  },
  {
   "cell_type": "markdown",
   "metadata": {},
   "source": []
  }
 ],
 "metadata": {
  "interpreter": {
   "hash": "40d3a090f54c6569ab1632332b64b2c03c39dcf918b08424e98f38b5ae0af88f"
  },
  "kernelspec": {
   "display_name": "Python 3.8.13 64-bit",
   "language": "python",
   "name": "python3"
  },
  "language_info": {
   "codemirror_mode": {
    "name": "ipython",
    "version": 3
   },
   "file_extension": ".py",
   "mimetype": "text/x-python",
   "name": "python",
   "nbconvert_exporter": "python",
   "pygments_lexer": "ipython3",
   "version": "3.8.13"
  },
  "orig_nbformat": 4
 },
 "nbformat": 4,
 "nbformat_minor": 2
}
