{
 "cells": [
  {
   "cell_type": "markdown",
   "metadata": {},
   "source": [
    "# Numpy vs Random\n",
    "Både i `numpy.random` og i `random` ligg det funksjonar som er ganske like, men likevel ulike. Til dømes vil koden"
   ]
  },
  {
   "cell_type": "code",
   "execution_count": 1,
   "metadata": {},
   "outputs": [],
   "source": [
    "import random\n",
    "a = random.randint(1, 6)"
   ]
  },
  {
   "cell_type": "markdown",
   "metadata": {},
   "source": [
    "returnera en $a \\in [1, 6]$. Altså $a \\in {1, 2, 3, 4, 5, 6}. Samtidig vil "
   ]
  },
  {
   "cell_type": "code",
   "execution_count": 2,
   "metadata": {},
   "outputs": [],
   "source": [
    "import numpy as np\n",
    "b = np.random.randint(1,6)"
   ]
  },
  {
   "cell_type": "markdown",
   "metadata": {},
   "source": [
    "gje $b \\in [1, 6 \\rangle$. Altså vil $b \\in {1, 2, 3, 4, 5}$.\n",
    "\n",
    "Når ein driv med såkalla \"stjerneimportering\","
   ]
  },
  {
   "cell_type": "code",
   "execution_count": 4,
   "metadata": {},
   "outputs": [],
   "source": [
    "from pylab import *\n",
    "c = randint(1, 6)"
   ]
  },
  {
   "cell_type": "markdown",
   "metadata": {},
   "source": [
    "\n",
    "vil ein dermed ikkje ha oversikt over kor `random`-modulen er henta... \n",
    "\n",
    "I det følgjande vil eg bruka `random`-modulen til `numpy` sidan denne har fleire aktuelle funksjonar for S1 og S2. Sjekk dokumentasjonen [her](https://numpy.org/doc/stable/reference/random/index.html?highlight=random#module-numpy.random).\n",
    "\n",
    "Det er sjølvsagt mogleg å veksla mellom dei ulike biblioteka, gitt at ein held tunga rett i munnen og har kontroll på kvar funksjonane ein nyttar kjem frå. "
   ]
  }
 ],
 "metadata": {
  "kernelspec": {
   "display_name": "Python 3.8.13 ('base')",
   "language": "python",
   "name": "python3"
  },
  "language_info": {
   "codemirror_mode": {
    "name": "ipython",
    "version": 3
   },
   "file_extension": ".py",
   "mimetype": "text/x-python",
   "name": "python",
   "nbconvert_exporter": "python",
   "pygments_lexer": "ipython3",
   "version": "3.8.13"
  },
  "orig_nbformat": 4,
  "vscode": {
   "interpreter": {
    "hash": "034280a56507a596863b38a111dd31b1ed4d03eb6644e1297ef960ca85732ce5"
   }
  }
 },
 "nbformat": 4,
 "nbformat_minor": 2
}
